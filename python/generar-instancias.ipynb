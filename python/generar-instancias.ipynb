{
 "cells": [
  {
   "cell_type": "markdown",
   "metadata": {},
   "source": [
    "# Generador de instancias\n",
    "En este notebook está el código para generar los sets de instancias que se usan para experimentar.\n",
    "- Estas instancias van a ser guardadas en la carpeta __instancias__.\n",
    "- Cada set estará en su propia carpeta y tendrá un archivo _indice.csv_ que contendrá información sobre las instancias."
   ]
  },
  {
   "cell_type": "code",
   "execution_count": 2,
   "metadata": {},
   "outputs": [],
   "source": [
    "import random, math\n",
    "import pandas as pd"
   ]
  },
  {
   "cell_type": "code",
   "execution_count": 3,
   "metadata": {},
   "outputs": [],
   "source": [
    "def save_instance(dataset, instance_name, J, R):\n",
    "    with open(F\"instancias/{dataset}/{instance_name}.txt\", \"w\") as f:\n",
    "        print(len(J), R, file=f)\n",
    "        for j in J:\n",
    "            print(j[0], j[1], file=f, end=\" \\n\")\n",
    "\n",
    "def save_index(dataset, instances):\n",
    "    with open(F\"instancias/{dataset}/instances.txt\", \"w\") as f:\n",
    "        for instance in instances: \n",
    "            print(instance, file=f)"
   ]
  },
  {
   "cell_type": "markdown",
   "metadata": {},
   "source": [
    "## Dataset 1\n",
    "Instancias de mejor caso de backtracking, están descriptas en el informe en más detalle.\n",
    "```\n",
    "S = {1, ..., 1, W} con W > n\n",
    "```"
   ]
  },
  {
   "cell_type": "code",
   "execution_count": 3,
   "metadata": {},
   "outputs": [],
   "source": [
    "filas_indice = []\n",
    "for i in range(1, 1001):\n",
    "    n = i * 10\n",
    "    W = 1000\n",
    "    S = [1 for i in range(0, n)]\n",
    "    S[-1] = W\n",
    "    save_instance(\"mejor-caso-bt\", F\"BT-MC-{n}\", S, W)\n",
    "    filas_indice.append([\"mejor-caso-bt\", F\"BT-MC-{n}\", n, W, F\"instancias/mejor-caso-bt/BT-MC-{n}.txt\"])\n",
    "pd.DataFrame(filas_indice, columns=[\"dataset\", \"instancia\", \"n\", \"W\", \"archivo\"]).to_csv(\"instancias/mejor-caso-bt/indice.csv\", index=False, header=True)"
   ]
  },
  {
   "cell_type": "markdown",
   "metadata": {},
   "source": [
    "## Dataset 2\n",
    "Instancias de peor caso de backtracking, están descriptas en el informe en más detalle.\n",
    "```\n",
    "S = {1, ..., 1, 1} con W = n\n",
    "```"
   ]
  },
  {
   "cell_type": "code",
   "execution_count": 4,
   "metadata": {},
   "outputs": [],
   "source": [
    "filas_indice = []\n",
    "for n in range(1, 31):\n",
    "    W = n\n",
    "    S = [1 for i in range(0, n)]\n",
    "    save_instance(\"peor-caso-bt\", F\"BT-PC-{n}\", S, W)\n",
    "    filas_indice.append([\"peor-caso-bt\", F\"BT-PC-{n}\", n, W, F\"instancias/peor-caso-bt/BT-PC-{n}.txt\"])\n",
    "pd.DataFrame(filas_indice, columns=[\"dataset\", \"instancia\", \"n\", \"W\", \"archivo\"]).to_csv(\"instancias/peor-caso-bt/indice.csv\", index=False, header=True)"
   ]
  },
  {
   "cell_type": "markdown",
   "metadata": {},
   "source": [
    "## Dataset 3\n",
    "Instancias con densidad alta:\n",
    "```\n",
    "S = { 1, ..., n } con W = n/2\n",
    "```"
   ]
  },
  {
   "cell_type": "code",
   "execution_count": 10,
   "metadata": {},
   "outputs": [],
   "source": [
    "filas_indice = []\n",
    "for n in range(1, 201):\n",
    "    J = [(0,0) for i in range(0, n)]\n",
    "    for i in range(0, n): J[i] = (i+1,(i+1)*3)\n",
    "    R = math.floor(J[n-1][1]*2)\n",
    "    random.shuffle(J)\n",
    "    save_instance(\"densidad-alta\", F\"ALTA-{n}\", J, R)\n",
    "    filas_indice.append([\"densidad-alta\", F\"ALTA-{n}\", n, R, F\"instancias/densidad-alta/ALTA-{n}.txt\"])\n",
    "pd.DataFrame(filas_indice, columns=[\"dataset\", \"instancia\", \"n\", \"R\", \"archivo\"]).to_csv(\"instancias/densidad-alta/indice.csv\", index=False, header=True)"
   ]
  },
  {
   "cell_type": "markdown",
   "metadata": {},
   "source": [
    "## Dataset 4\n",
    "Instancias con densidad baja:\n",
    "```\n",
    "S = { 1, ..., n } con W = n/2  \n",
    "```"
   ]
  },
  {
   "cell_type": "code",
   "execution_count": 5,
   "metadata": {},
   "outputs": [],
   "source": [
    "filas_indice = []\n",
    "for n in range(1, 201):\n",
    "    J = [(0,0) for i in range(0, n)]\n",
    "    for i in range(0, n): J[i] = (i+3, int(i/3))\n",
    "    R = math.floor(int(J[n-1][1]/2))\n",
    "    random.shuffle(J)\n",
    "    save_instance(\"densidad-baja\", F\"BAJA-{n}\", J, R)\n",
    "    filas_indice.append([\"densidad-baja\", F\"BAJA-{n}\", n, R, F\"instancias/densidad-baja/BAJA-{n}.txt\"])\n",
    "pd.DataFrame(filas_indice, columns=[\"dataset\", \"instancia\", \"n\", \"R\", \"archivo\"]).to_csv(\"instancias/densidad-baja/indice.csv\", index=False, header=True)"
   ]
  },
  {
   "cell_type": "markdown",
   "metadata": {},
   "source": [
    "# Dataset 5\n",
    "Instancias variando n y W con densidad baja."
   ]
  },
  {
   "cell_type": "code",
   "execution_count": 7,
   "metadata": {},
   "outputs": [],
   "source": [
    "filas_indice = []\n",
    "for n in range(1000, 8000, 500):\n",
    "    for W in range(1000, 8000, 500):\n",
    "        S = [1 for i in range(0, n)]\n",
    "        save_instance(\"dinamica\", F\"DP-{n}-{W}\", S, W)\n",
    "        filas_indice.append([\"dinamica\", F\"DP-{n}-{W}\", n, W, F\"instancias/dinamica/DP-{n}-{W}.txt\"])\n",
    "pd.DataFrame(filas_indice, columns=[\"dataset\", \"instancia\", \"n\", \"W\", \"archivo\"]).to_csv(\"instancias/dinamica/indice.csv\", index=False, header=True)"
   ]
  },
  {
   "cell_type": "markdown",
   "metadata": {},
   "source": [
    "Data set 6\n",
    "\n",
    "densidades mezcladas\n"
   ]
  },
  {
   "cell_type": "code",
   "execution_count": 8,
   "metadata": {},
   "outputs": [],
   "source": [
    "filas_indice = []\n",
    "for n in range(1, 201):\n",
    "\n",
    "    #baja densidad\n",
    "    J1 = [(0,0) for i in range(0, n)]\n",
    "    for i in range(0, n): J1[i] = (i+3, int(i/3))\n",
    "    R1 = math.floor(int(J1[n-1][1]/2))\n",
    "    random.shuffle(J1)\n",
    "    \n",
    "    # alta densidad\n",
    "    J = [(0,0) for i in range(0, n)]\n",
    "    for i in range(0, n): J[i] = (i+1,(i+1)*3)\n",
    "    R = math.floor(J[n-1][1]*2)\n",
    "    random.shuffle(J)\n",
    "    \n",
    "    #mezclo\n",
    "    for i in range(0, int(n/2)): J[i] = J1[i]\n",
    "    random.shuffle(J)\n",
    "    R=int((R+R1)/2)\n",
    "    save_instance(\"densidad-mezclada\", F\"MEZCLA-{n}\", J, R)\n",
    "    filas_indice.append([\"densidad-mezclada\", F\"MEZCLA-{n}\", n, R, F\"instancias/densidad-mezclada/MEZCLA-{n}.txt\"])\n",
    "pd.DataFrame(filas_indice, columns=[\"dataset\", \"instancia\", \"n\", \"R\", \"archivo\"]).to_csv(\"instancias/densidad-mezclada/indice.csv\", index=False, header=True)"
   ]
  },
  {
   "cell_type": "code",
   "execution_count": null,
   "metadata": {},
   "outputs": [],
   "source": []
  }
 ],
 "metadata": {
  "kernelspec": {
   "display_name": "Python 3",
   "language": "python",
   "name": "python3"
  },
  "language_info": {
   "codemirror_mode": {
    "name": "ipython",
    "version": 3
   },
   "file_extension": ".py",
   "mimetype": "text/x-python",
   "name": "python",
   "nbconvert_exporter": "python",
   "pygments_lexer": "ipython3",
   "version": "3.8.5"
  }
 },
 "nbformat": 4,
 "nbformat_minor": 4
}
