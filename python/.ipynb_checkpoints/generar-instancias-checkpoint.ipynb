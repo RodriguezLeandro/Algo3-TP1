{
 "cells": [
  {
   "cell_type": "markdown",
   "metadata": {},
   "source": [
    "# Generador de instancias\n",
    "En este notebook está el código para generar los sets de instancias que se usan para experimentar.\n",
    "- Estas instancias van a ser guardadas en la carpeta __instancias__.\n",
    "- Cada set estará en su propia carpeta y tendrá un archivo _indice.csv_ que contendrá información sobre las instancias."
   ]
  },
  {
   "cell_type": "code",
   "execution_count": 8,
   "metadata": {},
   "outputs": [],
   "source": [
    "import random, math\n",
    "import pandas as pd"
   ]
  },
  {
   "cell_type": "code",
   "execution_count": 9,
   "metadata": {},
   "outputs": [],
   "source": [
    "def save_instance(dataset, instance_name, J, R):\n",
    "    with open(F\"instancias/{dataset}/{instance_name}.txt\", \"w\") as f:\n",
    "        print(len(J), R, file=f)\n",
    "        for j in J:\n",
    "            print(j[0], j[1], file=f, end=\" \\n\")\n",
    "\n",
    "def save_index(dataset, instances):\n",
    "    with open(F\"instancias/{dataset}/instances.txt\", \"w\") as f:\n",
    "        for instance in instances: \n",
    "            print(instance, file=f)"
   ]
  },
  {
   "cell_type": "markdown",
   "metadata": {},
   "source": [
    "## Dataset 1\n",
    "Instancias de mejor caso de backtracking, están descriptas en el informe en más detalle.\n",
    "```\n",
    " J = { (1*n,1), ..., (n*n,n) } con R = (n)\n",
    "```"
   ]
  },
  {
   "cell_type": "code",
   "execution_count": 4,
   "metadata": {},
   "outputs": [],
   "source": [
    "filas_indice = []\n",
    "for n in range(1, 201):\n",
    "    J = [(0,0) for i in range(0, n)]\n",
    "    for i in range(0, n): J[i] = ((i+1)*n), ((i+1))\n",
    "    R = math.floor(n)\n",
    "    #random.shuffle(J)\n",
    "    save_instance(\"mejor-caso-bt\", F\"BT-BC-{n}\", J, R)\n",
    "    filas_indice.append([\"mejor-caso-bt\", F\"BT-BC-{n}\", n, R, F\"instancias/mejor-caso-bt/BT-BC-{n}.txt\"])\n",
    "pd.DataFrame(filas_indice, columns=[\"dataset\", \"instancia\", \"n\", \"R\", \"archivo\"]).to_csv(\"instancias/mejor-caso-bt/indice.csv\", index=False, header=True)"
   ]
  },
  {
   "cell_type": "markdown",
   "metadata": {},
   "source": [
    "## Dataset 2\n",
    "Instancias de peor caso de backtracking, están descriptas en el informe en más detalle.\n",
    "```\n",
    " J = { (1,1*n^2), ..., (n,n*n^2) } con R = (n^3)\n",
    "```"
   ]
  },
  {
   "cell_type": "code",
   "execution_count": 10,
   "metadata": {},
   "outputs": [],
   "source": [
    "\n",
    "filas_indice = []\n",
    "for n in range(1, 60):\n",
    "    J = [(0,0) for i in range(0, n)]\n",
    "    for i in range(0, n//2): J[i] = (1, ((i+1)*n*n))\n",
    "    for i in range(n//2, n): J[i] = (((i+1)*n), (i+1)*n*n)\n",
    "    R = math.floor((i+1)*n)\n",
    "    random.shuffle(J)\n",
    "    save_instance(\"peor-caso-bt\", F\"BT-PC-{n}\", J, R)\n",
    "    filas_indice.append([\"peor-caso-bt\", F\"BT-PC-{n}\", n, R, F\"instancias/peor-caso-bt/BT-PC-{n}.txt\"])\n",
    "pd.DataFrame(filas_indice, columns=[\"dataset\", \"instancia\", \"n\", \"R\", \"archivo\"]).to_csv(\"instancias/peor-caso-bt/indice.csv\", index=False, header=True)\n"
   ]
  },
  {
   "cell_type": "markdown",
   "metadata": {},
   "source": [
    "## Dataset 3\n",
    "Instancias con densidad alta:\n",
    "```\n",
    "J = { (1,3), ..., (n,3n) } con R = 3n * 2\n",
    "```"
   ]
  },
  {
   "cell_type": "code",
   "execution_count": 30,
   "metadata": {},
   "outputs": [],
   "source": [
    "filas_indice = []\n",
    "for n in range(1, 201):\n",
    "    J = [(0,0) for i in range(0, n)]\n",
    "    for i in range(0, n): J[i] = (i+1,(i+1)*3)\n",
    "    R = math.floor(J[n-1][1]*2)\n",
    "    random.shuffle(J)\n",
    "    save_instance(\"densidad-alta\", F\"ALTA-{n}\", J, R)\n",
    "    filas_indice.append([\"densidad-alta\", F\"ALTA-{n}\", n, R, F\"instancias/densidad-alta/ALTA-{n}.txt\"])\n",
    "pd.DataFrame(filas_indice, columns=[\"dataset\", \"instancia\", \"n\", \"R\", \"archivo\"]).to_csv(\"instancias/densidad-alta/indice.csv\", index=False, header=True)"
   ]
  },
  {
   "cell_type": "markdown",
   "metadata": {},
   "source": [
    "## Dataset 4\n",
    "Instancias con densidad baja:\n",
    "```\n",
    "J = { (3,1), ..., (3n,n) } con R = n / 2\n",
    "```"
   ]
  },
  {
   "cell_type": "code",
   "execution_count": 31,
   "metadata": {},
   "outputs": [],
   "source": [
    "filas_indice = []\n",
    "for n in range(1, 201):\n",
    "    J = [(0,0) for i in range(0, n)]\n",
    "    for i in range(0, n): J[i] = (i+3, int((i+1)/3))\n",
    "    R = math.floor(int(J[n-1][1]/2))\n",
    "    random.shuffle(J)\n",
    "    save_instance(\"densidad-baja\", F\"BAJA-{n}\", J, R)\n",
    "    filas_indice.append([\"densidad-baja\", F\"BAJA-{n}\", n, R, F\"instancias/densidad-baja/BAJA-{n}.txt\"])\n",
    "pd.DataFrame(filas_indice, columns=[\"dataset\", \"instancia\", \"n\", \"R\", \"archivo\"]).to_csv(\"instancias/densidad-baja/indice.csv\", index=False, header=True)"
   ]
  },
  {
   "cell_type": "markdown",
   "metadata": {},
   "source": [
    "# Dataset 5\n",
    "Instancias con densidad media\n",
    "\n",
    "```\n",
    " J = { (1,1), ..., (n,n) } con R = (n * n+1) /2\n",
    "```"
   ]
  },
  {
   "cell_type": "code",
   "execution_count": 32,
   "metadata": {},
   "outputs": [],
   "source": [
    "for n in range(1, 201):\n",
    "    J = [(0,0) for i in range(0, n)]\n",
    "    for i in range(0, n): J[i] = (i+1, i+1)\n",
    "    R = math.floor(n*(n+1)/2)\n",
    "    random.shuffle(J)\n",
    "    save_instance(\"densidad-media\", F\"MEDIA-{n}\", J, R)\n",
    "    filas_indice.append([\"densidad-media\", F\"MEDIA-{n}\", n, R, F\"instancias/densidad-media/MEDIA-{n}.txt\"])\n",
    "pd.DataFrame(filas_indice, columns=[\"dataset\", \"instancia\", \"n\", \"R\", \"archivo\"]).to_csv(\"instancias/densidad-media/indice.csv\", index=False, header=True)"
   ]
  },
  {
   "cell_type": "markdown",
   "metadata": {},
   "source": [
    "# Dataset 6\n",
    "Instancias mezclando densidades densidades bajas y altas."
   ]
  },
  {
   "cell_type": "code",
   "execution_count": 33,
   "metadata": {},
   "outputs": [],
   "source": [
    "filas_indice = []\n",
    "for n in range(1, 201):\n",
    "\n",
    "    #densidad baja\n",
    "    J1 = [(0,0) for i in range(0, n)]\n",
    "    for i in range(0, n): J1[i] = (i+3, int((i+1)/3))\n",
    "    R1 = math.floor(int(J1[n-1][1]/2))\n",
    "    random.shuffle(J1)\n",
    "    \n",
    "    #densidad media\n",
    "    J2 = [(0,0) for i in range(0, n)]\n",
    "    for i in range(0, n): J2[i] = (i+1, i+1)\n",
    "    R2 = math.floor(n*(n+1)/2)\n",
    "    random.shuffle(J)\n",
    "    \n",
    "    #densidad alta\n",
    "    J = [(0,0) for i in range(0, n)]\n",
    "    for i in range(0, n): J[i] = (i+1,(i+1)*3)\n",
    "    R = math.floor(J[n-1][1]*2)\n",
    "    random.shuffle(J)\n",
    "    \n",
    "    #mezclo\n",
    "    for i in range(0, int(n/3)): J[i] = J1[i]\n",
    "    for i in range(int(n/3)+1, 2*int(n/3)): J[i] = J2[i]\n",
    "    random.shuffle(J)\n",
    "    R=int((R+R1+R2)/3)\n",
    "    save_instance(\"densidad-mezclada\", F\"MEZCLA-{n}\", J, R)\n",
    "    filas_indice.append([\"densidad-mezclada\", F\"MEZCLA-{n}\", n, R, F\"instancias/densidad-mezclada/MEZCLA-{n}.txt\"])\n",
    "pd.DataFrame(filas_indice, columns=[\"dataset\", \"instancia\", \"n\", \"R\", \"archivo\"]).to_csv(\"instancias/densidad-mezclada/indice.csv\", index=False, header=True)"
   ]
  },
  {
   "cell_type": "markdown",
   "metadata": {},
   "source": [
    "# Dataset 7\n",
    "Instancias mezcla variando n y R para programacion dinamica"
   ]
  },
  {
   "cell_type": "code",
   "execution_count": 35,
   "metadata": {},
   "outputs": [],
   "source": [
    "filas_indice = []\n",
    "for n in range(1000, 8000, 500):\n",
    "    #densidad baja\n",
    "    J1 = [(0,0) for i in range(0, n)]\n",
    "    for i in range(0, n): J1[i] = (i+3, int((i+1)/3))\n",
    "    R1 = math.floor(int(J1[n-1][1]/2))\n",
    "    random.shuffle(J1)\n",
    "    \n",
    "    #densidad media\n",
    "    J2 = [(0,0) for i in range(0, n)]\n",
    "    for i in range(0, n): J2[i] = (i+1, i+1)\n",
    "    R2 = math.floor(n*(n+1)/2)\n",
    "    random.shuffle(J)\n",
    "    \n",
    "    #densidad alta\n",
    "    J = [(0,0) for i in range(0, n)]\n",
    "    for i in range(0, n): J[i] = (i+1,(i+1)*3)\n",
    "    R = math.floor(J[n-1][1]*2)\n",
    "    random.shuffle(J)\n",
    "    \n",
    "    #mezclo\n",
    "    for i in range(0, int(n/3)): J[i] = J1[i]\n",
    "    for i in range(int(n/3)+1, 2*int(n/3)): J[i] = J2[i]\n",
    "    random.shuffle(J)\n",
    "    \n",
    "    for R in range(1000, 8000, 500):\n",
    "        save_instance(\"dinamica\", F\"DP-{n}-{R}\", J, R)\n",
    "        filas_indice.append([\"dinamica\", F\"DP-{n}-{R}\", n, R, F\"instancias/dinamica/DP-{n}-{R}.txt\"])\n",
    "pd.DataFrame(filas_indice, columns=[\"dataset\", \"instancia\", \"n\", \"R\", \"archivo\"]).to_csv(\"instancias/dinamica/indice.csv\", index=False, header=True)"
   ]
  },
  {
   "cell_type": "code",
   "execution_count": null,
   "metadata": {},
   "outputs": [],
   "source": []
  }
 ],
 "metadata": {
  "kernelspec": {
   "display_name": "Python 3",
   "language": "python",
   "name": "python3"
  },
  "language_info": {
   "codemirror_mode": {
    "name": "ipython",
    "version": 3
   },
   "file_extension": ".py",
   "mimetype": "text/x-python",
   "name": "python",
   "nbconvert_exporter": "python",
   "pygments_lexer": "ipython3",
   "version": "3.8.5"
  }
 },
 "nbformat": 4,
 "nbformat_minor": 4
}
